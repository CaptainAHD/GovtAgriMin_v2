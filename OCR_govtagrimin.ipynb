{
  "nbformat": 4,
  "nbformat_minor": 0,
  "metadata": {
    "colab": {
      "provenance": []
    },
    "kernelspec": {
      "name": "python3",
      "display_name": "Python 3"
    },
    "language_info": {
      "name": "python"
    }
  },
  "cells": [
    {
      "cell_type": "code",
      "source": [
        "!sudo apt install tesseract-ocr\n",
        "!pip install pytesseract"
      ],
      "metadata": {
        "colab": {
          "base_uri": "https://localhost:8080/"
        },
        "id": "RFc485PCH7kU",
        "outputId": "69df987d-cfa8-4828-9484-890763cc2e10"
      },
      "execution_count": 1,
      "outputs": [
        {
          "output_type": "stream",
          "name": "stdout",
          "text": [
            "Reading package lists... Done\n",
            "Building dependency tree... Done\n",
            "Reading state information... Done\n",
            "tesseract-ocr is already the newest version (4.1.1-2.1build1).\n",
            "0 upgraded, 0 newly installed, 0 to remove and 35 not upgraded.\n",
            "Requirement already satisfied: pytesseract in /usr/local/lib/python3.10/dist-packages (0.3.10)\n",
            "Requirement already satisfied: packaging>=21.3 in /usr/local/lib/python3.10/dist-packages (from pytesseract) (23.2)\n",
            "Requirement already satisfied: Pillow>=8.0.0 in /usr/local/lib/python3.10/dist-packages (from pytesseract) (9.4.0)\n"
          ]
        }
      ]
    },
    {
      "cell_type": "code",
      "execution_count": 2,
      "metadata": {
        "colab": {
          "base_uri": "https://localhost:8080/"
        },
        "id": "W38KtlkpGH5d",
        "outputId": "7a31882e-7a1d-46d4-df5f-09dd7536e69f"
      },
      "outputs": [
        {
          "output_type": "stream",
          "name": "stdout",
          "text": [
            "Drive already mounted at /content/drive; to attempt to forcibly remount, call drive.mount(\"/content/drive\", force_remount=True).\n"
          ]
        }
      ],
      "source": [
        "from google.colab import drive\n",
        "import os\n",
        "import pytesseract\n",
        "from PIL import Image\n",
        "drive.mount('/content/drive')"
      ]
    },
    {
      "cell_type": "code",
      "source": [
        "def ocr_image_to_text(image_path):\n",
        "    try:\n",
        "        img = Image.open(image_path)\n",
        "        text = pytesseract.image_to_string(img)\n",
        "        return text\n",
        "    except Exception as e:\n",
        "        print(f\"Error processing {image_path}: {e}\")\n",
        "        return None\n",
        "\n",
        "def process_folder(folder_path, output_file):\n",
        "    with open(output_file, \"w\") as file:\n",
        "        for root, dirs, files in os.walk(folder_path):\n",
        "            for name in files:\n",
        "                if name.lower().endswith(('.png', '.jpg', '.jpeg', '.tiff', '.bmp', '.gif')):\n",
        "                    image_path = os.path.join(root, name)\n",
        "                    text = ocr_image_to_text(image_path)\n",
        "                    if text:\n",
        "                        file.write(text + \"\\n\")\n",
        "\n",
        "\n",
        "your_main_folder_path = '/content/drive/MyDrive/Data/rice'\n",
        "for folder in os.listdir(your_main_folder_path):\n",
        "    folder_path = os.path.join(your_main_folder_path, folder)\n",
        "    if os.path.isdir(folder_path):\n",
        "        output_file = os.path.join(folder_path, f\"{folder}.txt\")\n",
        "        process_folder(folder_path, output_file)"
      ],
      "metadata": {
        "id": "T9vdshItHef8"
      },
      "execution_count": 10,
      "outputs": []
    },
    {
      "cell_type": "code",
      "source": [
        "import os\n",
        "import csv\n",
        "\n",
        "# Specify the path to the folder\n",
        "folder_path = '/content/drive/MyDrive/Data/cotton'  # Replace with your folder path\n",
        "\n",
        "# List all the folders within the specified folder\n",
        "folders = [f for f in os.listdir(folder_path) if os.path.isdir(os.path.join(folder_path, f))]\n",
        "\n",
        "# Create a CSV file\n",
        "csv_file_path = 'cotton.csv'\n",
        "with open(csv_file_path, mode='w', newline='') as file:\n",
        "    writer = csv.writer(file)\n",
        "    # Write the header\n",
        "    writer.writerow(['file name', 'link'])\n",
        "\n",
        "    # Write the folder names and their links (assuming link is a path to the folder)\n",
        "    for folder in folders:\n",
        "        writer.writerow([folder, f\"https://ppqs.gov.in/sites/default/files/{folder}.pdf\"])\n",
        "\n",
        "print(f\"CSV file created at {csv_file_path}\")\n"
      ],
      "metadata": {
        "colab": {
          "base_uri": "https://localhost:8080/"
        },
        "id": "kR6T8s53OoqR",
        "outputId": "5c731e3a-b71b-4de1-f358-d3c3afd2b02b"
      },
      "execution_count": 12,
      "outputs": [
        {
          "output_type": "stream",
          "name": "stdout",
          "text": [
            "CSV file created at cotton.csv\n"
          ]
        }
      ]
    }
  ]
}